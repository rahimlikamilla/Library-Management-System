{
 "cells": [
  {
   "cell_type": "code",
   "execution_count": 1,
   "id": "81b5d8e9-89d7-4da1-829c-dbcc2bcafdc5",
   "metadata": {},
   "outputs": [],
   "source": [
    "# Imports\n",
    "import numpy as np\n",
    "import pandas as pd\n",
    "import os"
   ]
  },
  {
   "cell_type": "code",
   "execution_count": 2,
   "id": "c576bdb7-ba9b-4403-a1b9-ec1085fca336",
   "metadata": {},
   "outputs": [],
   "source": [
    "# Load the dataset\n",
    "path = \"./books.csv\"\n",
    "df = pd.read_csv(path, delimiter=',', on_bad_lines=\"skip\")\n",
    "\n",
    "# Drop columns that are unnecessary\n",
    "df.rename(columns={\"  num_pages\": \"num_pages\"}, inplace=True)\n",
    "df = df.drop(columns=[\"ratings_count\", \"text_reviews_count\", \"publication_date\", \"average_rating\", \"num_pages\"])"
   ]
  },
  {
   "cell_type": "code",
   "execution_count": 3,
   "id": "48d0b733-7fe6-4880-9e0c-99785f089d3d",
   "metadata": {},
   "outputs": [
    {
     "name": "stdout",
     "output_type": "stream",
     "text": [
      "utf-8\n"
     ]
    }
   ],
   "source": [
    "import chardet\n",
    "\n",
    "with open(\"books.csv\", \"rb\") as file:\n",
    "    result = chardet.detect(file.read())\n",
    "    print(result['encoding'])"
   ]
  },
  {
   "cell_type": "code",
   "execution_count": 4,
   "id": "58c01f88-07b0-48f2-9ebc-fdf15c8e3d00",
   "metadata": {},
   "outputs": [
    {
     "data": {
      "text/html": [
       "<div>\n",
       "<style scoped>\n",
       "    .dataframe tbody tr th:only-of-type {\n",
       "        vertical-align: middle;\n",
       "    }\n",
       "\n",
       "    .dataframe tbody tr th {\n",
       "        vertical-align: top;\n",
       "    }\n",
       "\n",
       "    .dataframe thead th {\n",
       "        text-align: right;\n",
       "    }\n",
       "</style>\n",
       "<table border=\"1\" class=\"dataframe\">\n",
       "  <thead>\n",
       "    <tr style=\"text-align: right;\">\n",
       "      <th></th>\n",
       "      <th>bookID</th>\n",
       "      <th>title</th>\n",
       "      <th>authors</th>\n",
       "      <th>isbn</th>\n",
       "      <th>isbn13</th>\n",
       "      <th>language_code</th>\n",
       "      <th>publisher</th>\n",
       "    </tr>\n",
       "  </thead>\n",
       "  <tbody>\n",
       "    <tr>\n",
       "      <th>0</th>\n",
       "      <td>1</td>\n",
       "      <td>Harry Potter and the Half-Blood Prince (Harry ...</td>\n",
       "      <td>J.K. Rowling/Mary GrandPré</td>\n",
       "      <td>0439785960</td>\n",
       "      <td>9780439785969</td>\n",
       "      <td>eng</td>\n",
       "      <td>Scholastic Inc.</td>\n",
       "    </tr>\n",
       "    <tr>\n",
       "      <th>1</th>\n",
       "      <td>2</td>\n",
       "      <td>Harry Potter and the Order of the Phoenix (Har...</td>\n",
       "      <td>J.K. Rowling/Mary GrandPré</td>\n",
       "      <td>0439358078</td>\n",
       "      <td>9780439358071</td>\n",
       "      <td>eng</td>\n",
       "      <td>Scholastic Inc.</td>\n",
       "    </tr>\n",
       "    <tr>\n",
       "      <th>2</th>\n",
       "      <td>4</td>\n",
       "      <td>Harry Potter and the Chamber of Secrets (Harry...</td>\n",
       "      <td>J.K. Rowling</td>\n",
       "      <td>0439554896</td>\n",
       "      <td>9780439554893</td>\n",
       "      <td>eng</td>\n",
       "      <td>Scholastic</td>\n",
       "    </tr>\n",
       "    <tr>\n",
       "      <th>3</th>\n",
       "      <td>5</td>\n",
       "      <td>Harry Potter and the Prisoner of Azkaban (Harr...</td>\n",
       "      <td>J.K. Rowling/Mary GrandPré</td>\n",
       "      <td>043965548X</td>\n",
       "      <td>9780439655484</td>\n",
       "      <td>eng</td>\n",
       "      <td>Scholastic Inc.</td>\n",
       "    </tr>\n",
       "    <tr>\n",
       "      <th>4</th>\n",
       "      <td>8</td>\n",
       "      <td>Harry Potter Boxed Set  Books 1-5 (Harry Potte...</td>\n",
       "      <td>J.K. Rowling/Mary GrandPré</td>\n",
       "      <td>0439682584</td>\n",
       "      <td>9780439682589</td>\n",
       "      <td>eng</td>\n",
       "      <td>Scholastic</td>\n",
       "    </tr>\n",
       "  </tbody>\n",
       "</table>\n",
       "</div>"
      ],
      "text/plain": [
       "   bookID                                              title  \\\n",
       "0       1  Harry Potter and the Half-Blood Prince (Harry ...   \n",
       "1       2  Harry Potter and the Order of the Phoenix (Har...   \n",
       "2       4  Harry Potter and the Chamber of Secrets (Harry...   \n",
       "3       5  Harry Potter and the Prisoner of Azkaban (Harr...   \n",
       "4       8  Harry Potter Boxed Set  Books 1-5 (Harry Potte...   \n",
       "\n",
       "                      authors        isbn         isbn13 language_code  \\\n",
       "0  J.K. Rowling/Mary GrandPré  0439785960  9780439785969           eng   \n",
       "1  J.K. Rowling/Mary GrandPré  0439358078  9780439358071           eng   \n",
       "2                J.K. Rowling  0439554896  9780439554893           eng   \n",
       "3  J.K. Rowling/Mary GrandPré  043965548X  9780439655484           eng   \n",
       "4  J.K. Rowling/Mary GrandPré  0439682584  9780439682589           eng   \n",
       "\n",
       "         publisher  \n",
       "0  Scholastic Inc.  \n",
       "1  Scholastic Inc.  \n",
       "2       Scholastic  \n",
       "3  Scholastic Inc.  \n",
       "4       Scholastic  "
      ]
     },
     "execution_count": 4,
     "metadata": {},
     "output_type": "execute_result"
    }
   ],
   "source": [
    "df.head()"
   ]
  },
  {
   "cell_type": "code",
   "execution_count": 5,
   "id": "9ba7a644-948d-4007-9d1a-ef74b287a799",
   "metadata": {},
   "outputs": [],
   "source": [
    "# The titles and authors' names contain special characters\n",
    "# We need to escape them to properly convert to facts in Prolog\n",
    "def filter_token(token):\n",
    "    token = token.replace(\"'\", \"''\")\n",
    "    token = token.replace('\"', \"\")\n",
    "    token = token.replace('/', \"'/'\")  # use single quotes to escape\n",
    "    token = token.replace('[', '').replace(']', '')\n",
    "\n",
    "    return token\n",
    "\n",
    "def filter_authors(authors):\n",
    "    # Split authors by '/' and filter each name\n",
    "    authors_list = [author.strip() for author in authors.split('/')]\n",
    "    authors_list = [author.replace(\"'\", \"''\") for author in authors_list]  # similarly, escape\n",
    "    # Return authors as a Prolog list\n",
    "    return f\"[{', '.join([f'\\'{author}\\'' for author in authors_list])}]\"\n",
    "\n",
    "\n",
    "# Example: \"J.K. Rowling/Mary GrandPrÃ©\" -->  ['J.K. Rowling', 'Mary GrandPrÃ©']\n",
    "df[\"title\"] = df[\"title\"].apply(filter_token)\n",
    "df[\"authors\"] = df[\"authors\"].apply(filter_authors)\n",
    "df[\"publisher\"] = df[\"publisher\"].apply(filter_token)"
   ]
  },
  {
   "cell_type": "code",
   "execution_count": 6,
   "id": "1033af6f-aac8-4723-8ec4-aab571a48ef3",
   "metadata": {},
   "outputs": [],
   "source": [
    "# facts are of the form : book(bookID, title, [list of authors], Publisher)\n",
    "with open(\"books.pl\", \"w\", encoding=\"utf-8\") as facts:\n",
    "    for index, row in df.iterrows():\n",
    "        try:\n",
    "            facts.write(f\"book({row[\"bookID\"]},\\'{row[\"title\"]}\\',{row[\"authors\"]},\\'{row[\"publisher\"]}\\').\\n\")\n",
    "        except:\n",
    "            print(f\"Error at index {index}\")"
   ]
  }
 ],
 "metadata": {
  "kernelspec": {
   "display_name": "KB_Systems",
   "language": "python",
   "name": "kb_systems"
  },
  "language_info": {
   "codemirror_mode": {
    "name": "ipython",
    "version": 3
   },
   "file_extension": ".py",
   "mimetype": "text/x-python",
   "name": "python",
   "nbconvert_exporter": "python",
   "pygments_lexer": "ipython3",
   "version": "3.12.8"
  }
 },
 "nbformat": 4,
 "nbformat_minor": 5
}
